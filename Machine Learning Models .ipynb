{
 "cells": [
  {
   "cell_type": "markdown",
   "metadata": {},
   "source": [
    "# Skeleton Code for Machine Learning Models\n",
    "\n",
    "Includes:\n",
    "- Logistic Regression\n",
    "- K-Nearest Neighbors\n",
    "- Perceptron \n",
    "- Random Forest\n",
    "- Support Vector Machine Learning\n",
    "- Ridge Regression\n",
    "- Elastic Net\n",
    "- K-Fold Cross Validation"
   ]
  },
  {
   "cell_type": "code",
   "execution_count": null,
   "metadata": {},
   "outputs": [],
   "source": [
    "#import numpy and pandas\n",
    "\n",
    "import numpy as np\n",
    "import pandas as pd"
   ]
  },
  {
   "cell_type": "code",
   "execution_count": null,
   "metadata": {},
   "outputs": [],
   "source": [
    "# import machine learning libraries\n",
    "\n",
    "import sklearn.linear_model\n",
    "from sklearn.linear_model import LogisticRegression\n",
    "from sklearn.ensemble import AdaBoostClassifier\n",
    "from sklearn.model_selection import KFold\n",
    "from sklearn.model_selection import cross_val_score\n",
    "from sklearn.ensemble import RandomForestClassifier\n",
    "from sklearn.linear_model import Perceptron\n",
    "from sklearn.tree import DecisionTreeClassifier\n",
    "from sklearn.neighbors import KNeighborsClassifier\n",
    "from sklearn import svm\n",
    "from sklearn.linear_model import LogisticRegressionCV\n",
    "from sklearn.linear_model import Ridge\n",
    "from sklearn.linear_model import ElasticNet\n",
    "\n",
    "import warnings\n",
    "warnings.filterwarnings('ignore')"
   ]
  },
  {
   "cell_type": "code",
   "execution_count": null,
   "metadata": {},
   "outputs": [],
   "source": [
    "df = pd.read_csv('') #create df, insert file name\n",
    "df.head()"
   ]
  },
  {
   "cell_type": "code",
   "execution_count": null,
   "metadata": {},
   "outputs": [],
   "source": [
    "#split data into training and test sets\n",
    "from sklearn.model_selection import train_test_split\n",
    "\n",
    "x = df.iloc[:,:-1] #extract all but last column\n",
    "y = np.ravel(df[['Response']]) #extract last column\n",
    "\n",
    "X_train, X_test, y_train, y_test = train_test_split(x, y, test_size=0.2, random_state=0)\n",
    "\n",
    "#make sure to remove or replace all NaN values!"
   ]
  },
  {
   "cell_type": "markdown",
   "metadata": {},
   "source": [
    "# Logistic Regression\n",
    "\n",
    "Documentation: https://scikit-learn.org/stable/modules/generated/sklearn.linear_model.LogisticRegression.html"
   ]
  },
  {
   "cell_type": "code",
   "execution_count": null,
   "metadata": {},
   "outputs": [],
   "source": [
    "logreg = LogisticRegression(solver= 'liblinear',multi_class='ovr', max_iter=1000) #instantiate                            \n",
    "logreg.fit(X_train, y_train) #fit                              \n",
    "\n",
    "acc_logreg_train = logreg.score(X_train, y_train)  # predict + evaluate (training) \n",
    "acc_logreg_test = logreg.score(X_test, y_test)     # predict + evaluate (training) \n",
    " \n",
    "print('Logistic Regression Training Labeling Accuracy:', str(round(acc_logreg_train,3)*100),'%')             \n",
    "print('Logistic Regression Test Labeling Accuracy:', str(round(acc_logreg_test,3)*100),'%')"
   ]
  },
  {
   "cell_type": "markdown",
   "metadata": {},
   "source": [
    "# K-Nearest Neighbors\n",
    "\n",
    "Documentation: https://scikit-learn.org/stable/modules/generated/sklearn.neighbors.KNeighborsClassifier.html"
   ]
  },
  {
   "cell_type": "code",
   "execution_count": null,
   "metadata": {},
   "outputs": [],
   "source": [
    "knn = KNeighborsClassifier(n_neighbors = 3)            # instantiate               \n",
    "knn.fit(X_train, y_train)                              # fit                                   \n",
    "acc_knn_train = knn.score(X_train, y_train)            # predict + evaluate (training)                    \n",
    "acc_knn_test = knn.score(X_test, y_test)               # predict + evaluate (test)\n",
    "\n",
    "print('KNN Training Labeling Accuracy:', str(round(acc_knn_train*100,3)),'%')\n",
    "print('KNN Test Labeling Accuracy:', str(round(acc_knn_test*100,3)),'%')"
   ]
  },
  {
   "cell_type": "markdown",
   "metadata": {},
   "source": [
    "# Perceptron\n",
    "\n",
    "Documentation: https://scikit-learn.org/stable/modules/generated/sklearn.linear_model.Perceptron.html"
   ]
  },
  {
   "cell_type": "code",
   "execution_count": null,
   "metadata": {},
   "outputs": [],
   "source": [
    "perceptron = Perceptron(max_iter=10000, tol=None)              # instantiate                                  \n",
    "perceptron.fit(X_train, y_train)                               # fit                          \n",
    "acc_perceptron_train = perceptron.score(X_train, y_train)      # predict + evaluate (training)\n",
    "acc_perceptron_test = perceptron.score(X_test, y_test)         # predict + evaluate (test)\n",
    "\n",
    "print('Perceptron Training Labeling Accuracy:', str(round(acc_perceptron_train*100,3)),'%')\n",
    "print('Perceptron Test Labeling Accuracy:', str(round(acc_perceptron_test*100,3)),'%')"
   ]
  },
  {
   "cell_type": "markdown",
   "metadata": {},
   "source": [
    "# Random Forest\n",
    "\n",
    "Documentation: https://scikit-learn.org/stable/modules/generated/sklearn.ensemble.RandomForestClassifier.html"
   ]
  },
  {
   "cell_type": "code",
   "execution_count": null,
   "metadata": {},
   "outputs": [],
   "source": [
    "random_forest = RandomForestClassifier(n_estimators=10000,class_weight='balanced')# instantiate   \n",
    "random_forest.fit(X_train, y_train)                                               # fit                                      \n",
    "acc_rf_train = random_forest.score(X_train, y_train)                              # predict + evaluate (training)\n",
    "acc_rf_test = random_forest.score(X_test, y_test)                                 # predict + evaluate (test)\n",
    "print('Random Forest Training Labeling Accuracy:', str(round(acc_rf_train*100,3)),'%')\n",
    "print('Random Forest Test Labeling Accuracy:', str(round(acc_rf_test*100,3)),'%')"
   ]
  },
  {
   "cell_type": "markdown",
   "metadata": {},
   "source": [
    "# Support Vector Machine Learning\n",
    "\n",
    "Documentation: https://scikit-learn.org/stable/modules/svm.html"
   ]
  },
  {
   "cell_type": "code",
   "execution_count": null,
   "metadata": {},
   "outputs": [],
   "source": [
    "clf = svm.SVC(gamma='scale')                             # instantiate\n",
    "clf.fit(X_train, y_train)                                # fit\n",
    "acc_clf_train = clf.score(X_train, y_train)              # predict + evaluate (training)\n",
    "acc_clf_test = clf.score(X_test, y_test)                 # predict + evaluate (test)\n",
    "print('SVM Training Labeling Accuracy:', str(round(acc_clf_train*100,3)),'%')\n",
    "print('SVM Test Labeling Accuracy:', str(round(acc_clf_test*100,3)),'%')"
   ]
  },
  {
   "cell_type": "markdown",
   "metadata": {},
   "source": [
    "# Ridge Regression\n",
    "\n",
    "Documentation: https://scikit-learn.org/stable/modules/generated/sklearn.linear_model.Ridge.html"
   ]
  },
  {
   "cell_type": "code",
   "execution_count": null,
   "metadata": {},
   "outputs": [],
   "source": [
    "ridgereg = LogisticRegression(solver= 'liblinear',multi_class='ovr', max_iter=1000) #instantiate                            \n",
    "ridgereg.fit(X_train, y_train) #fit                              \n",
    "\n",
    "acc_ridgereg_train = ridgereg.score(X_train, y_train) # predict + evaluate (training) \n",
    "acc_ridgereg_test = ridgereg.score(X_test, y_test) # predict + evaluate (training) \n",
    " \n",
    "print('Ridge Regression Training Labeling Accuracy:', str(round(acc_ridgereg_train,3)*100),'%')             \n",
    "print('Ridge Regression Test Labeling Accuracy:', str(round(acc_ridgereg_test,3)*100),'%')"
   ]
  },
  {
   "cell_type": "markdown",
   "metadata": {},
   "source": [
    "# Elastic Net\n",
    "\n",
    "Documentation: https://scikit-learn.org/stable/modules/generated/sklearn.linear_model.ElasticNet.html"
   ]
  },
  {
   "cell_type": "code",
   "execution_count": null,
   "metadata": {},
   "outputs": [],
   "source": [
    "elastic_net = ElasticNet(random_state=0)\n",
    "elastic_net.fit(X_train, y_train)\n",
    "\n",
    "acc_elastic_net_train = elastic_net.score(X_train, y_train) # predict + evaluate (training) \n",
    "acc_elastic_net_test = elastic_net.score(X_test, y_test) # predict + evaluate (training) \n",
    " \n",
    "print('Elastic Net Training Labeling Accuracy:', str(round(acc_elastic_net_train,3)*100),'%')             \n",
    "print('Elastic Net Test Labeling Accuracy:', str(round(acc_elastic_net_test,3)*100),'%')"
   ]
  },
  {
   "cell_type": "markdown",
   "metadata": {},
   "source": [
    "# Comparing Results"
   ]
  },
  {
   "cell_type": "code",
   "execution_count": null,
   "metadata": {},
   "outputs": [],
   "source": [
    "#displays dataframe with test accuracies from each machine learning model\n",
    "\n",
    "d = {'Machine Learning Model':['Logistic Regression', 'KNN', 'Perceptron', 'Random Forest', 'Support Vector', 'Ridge Regression', 'Elastic Net'], \\\n",
    "        'Test Accuracy (Percent)': [round(acc_logreg_test*100,3),round(acc_knn_test*100,3), round(acc_perceptron_test*100,3), \\\n",
    "                                    round(acc_rf_test*100,3),round(acc_clf_test*100,3), round(acc_ridgereg_test*100,3), round(acc_elastic_net_test*100,3)]}\n",
    "display(pd.DataFrame(data=d))"
   ]
  },
  {
   "cell_type": "markdown",
   "metadata": {},
   "source": [
    "# K-Fold Cross Validation for Further Evaluation\n",
    "\n",
    "Documentation: https://scikit-learn.org/stable/modules/generated/sklearn.model_selection.KFold.html"
   ]
  },
  {
   "cell_type": "code",
   "execution_count": null,
   "metadata": {},
   "outputs": [],
   "source": [
    "#assign M to any machine learning model used above (logreg, knn, perceptron, random_forest, clf, ridgereg, elastic_net)\n",
    "\n",
    "kf = KFold(n_splits=3, shuffle=True, random_state=5)   # instantiate\n",
    "M = LogisticRegression(solver= 'liblinear',multi_class='ovr') #replace \n",
    "scores = cross_val_score(M,x,y,cv=kf)                 # fit + predict + eval. (uses all data)\n",
    "print('Average Accuracy:', str(round(scores.mean()*100,3)),'%')"
   ]
  }
 ],
 "metadata": {
  "kernelspec": {
   "display_name": "Python 3",
   "language": "python",
   "name": "python3"
  },
  "language_info": {
   "codemirror_mode": {
    "name": "ipython",
    "version": 3
   },
   "file_extension": ".py",
   "mimetype": "text/x-python",
   "name": "python",
   "nbconvert_exporter": "python",
   "pygments_lexer": "ipython3",
   "version": "3.7.1"
  }
 },
 "nbformat": 4,
 "nbformat_minor": 2
}
