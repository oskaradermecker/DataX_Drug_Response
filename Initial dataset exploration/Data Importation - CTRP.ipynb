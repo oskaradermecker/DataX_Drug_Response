{
 "cells": [
  {
   "cell_type": "code",
   "execution_count": 1,
   "metadata": {},
   "outputs": [],
   "source": [
    "import numpy as np\n",
    "import pandas as pd\n",
    "import seaborn as sns\n",
    "import matplotlib.pyplot as plt"
   ]
  },
  {
   "cell_type": "code",
   "execution_count": 4,
   "metadata": {
    "scrolled": true
   },
   "outputs": [
    {
     "name": "stdout",
     "output_type": "stream",
     "text": [
      "1107\n",
      "835\n"
     ]
    },
    {
     "data": {
      "text/html": [
       "<div>\n",
       "<style scoped>\n",
       "    .dataframe tbody tr th:only-of-type {\n",
       "        vertical-align: middle;\n",
       "    }\n",
       "\n",
       "    .dataframe tbody tr th {\n",
       "        vertical-align: top;\n",
       "    }\n",
       "\n",
       "    .dataframe thead th {\n",
       "        text-align: right;\n",
       "    }\n",
       "</style>\n",
       "<table border=\"1\" class=\"dataframe\">\n",
       "  <thead>\n",
       "    <tr style=\"text-align: right;\">\n",
       "      <th></th>\n",
       "      <th>master_ccl_id</th>\n",
       "      <th>ccl_name</th>\n",
       "      <th>ccl_availability</th>\n",
       "      <th>ccle_primary_site</th>\n",
       "      <th>ccle_primary_hist</th>\n",
       "      <th>ccle_hist_subtype_1</th>\n",
       "    </tr>\n",
       "  </thead>\n",
       "  <tbody>\n",
       "    <tr>\n",
       "      <th>0</th>\n",
       "      <td>1</td>\n",
       "      <td>697</td>\n",
       "      <td>ccle;public</td>\n",
       "      <td>haematopoietic_and_lymphoid_tissue</td>\n",
       "      <td>lymphoid_neoplasm</td>\n",
       "      <td>acute_lymphoblastic_B_cell_leukaemia</td>\n",
       "    </tr>\n",
       "    <tr>\n",
       "      <th>1</th>\n",
       "      <td>3</td>\n",
       "      <td>5637</td>\n",
       "      <td>ccle;public</td>\n",
       "      <td>urinary_tract</td>\n",
       "      <td>carcinoma</td>\n",
       "      <td>NaN</td>\n",
       "    </tr>\n",
       "    <tr>\n",
       "      <th>2</th>\n",
       "      <td>4</td>\n",
       "      <td>2313287</td>\n",
       "      <td>ccle;public</td>\n",
       "      <td>stomach</td>\n",
       "      <td>carcinoma</td>\n",
       "      <td>adenocarcinoma</td>\n",
       "    </tr>\n",
       "    <tr>\n",
       "      <th>3</th>\n",
       "      <td>5</td>\n",
       "      <td>1321N1</td>\n",
       "      <td>ccle</td>\n",
       "      <td>central_nervous_system</td>\n",
       "      <td>glioma</td>\n",
       "      <td>astrocytoma</td>\n",
       "    </tr>\n",
       "    <tr>\n",
       "      <th>4</th>\n",
       "      <td>6</td>\n",
       "      <td>143B</td>\n",
       "      <td>ccle</td>\n",
       "      <td>bone</td>\n",
       "      <td>osteosarcoma</td>\n",
       "      <td>NaN</td>\n",
       "    </tr>\n",
       "  </tbody>\n",
       "</table>\n",
       "</div>"
      ],
      "text/plain": [
       "   master_ccl_id ccl_name ccl_availability  \\\n",
       "0              1      697      ccle;public   \n",
       "1              3     5637      ccle;public   \n",
       "2              4  2313287      ccle;public   \n",
       "3              5   1321N1             ccle   \n",
       "4              6     143B             ccle   \n",
       "\n",
       "                    ccle_primary_site  ccle_primary_hist  \\\n",
       "0  haematopoietic_and_lymphoid_tissue  lymphoid_neoplasm   \n",
       "1                       urinary_tract          carcinoma   \n",
       "2                             stomach          carcinoma   \n",
       "3              central_nervous_system             glioma   \n",
       "4                                bone       osteosarcoma   \n",
       "\n",
       "                    ccle_hist_subtype_1  \n",
       "0  acute_lymphoblastic_B_cell_leukaemia  \n",
       "1                                   NaN  \n",
       "2                        adenocarcinoma  \n",
       "3                           astrocytoma  \n",
       "4                                   NaN  "
      ]
     },
     "execution_count": 4,
     "metadata": {},
     "output_type": "execute_result"
    }
   ],
   "source": [
    "#alterations = pd.read_csv(\"data/CTRP/data/v10.A1.enrichment_analysis.txt\", sep  = '\\t')\n",
    "alterations = pd.read_csv(\"data/CTRP v2.0 [2015]/v20.meta.per_cell_line.txt\", sep  = '\\t')\n",
    "alterations0 = pd.read_csv(\"data/CTRP v2.1 [2016]/v21.meta.per_cell_line.txt\", sep  = '\\t')\n",
    "alterations1 = pd.read_csv(\"data/CTRP v2.1 [2016]/v21.meta.gex_features.txt\", sep  = '\\t')\n",
    "#alterations2 = pd.read_csv(\"data/CTRP v2.1 [2016]/v21.meta.per_cell_line.txt\", sep  = '\\t')\n",
    "alterations3 = pd.read_csv(\"data/CTRP v2.1 [2016]/v21.meta.per_compound.txt\", sep  = '\\t')\n",
    "print(len(alterations.index))\n",
    "print(len(alterations0.index))\n",
    "#print(alterations1.columns)\n",
    "#print(alterations2.columns)\n",
    "#print(alterations3.columns)\n",
    "#alterations4 = pd.read_csv(\"data/mutations.txt\", sep  = '\\t')\n",
    "alterations.head()"
   ]
  },
  {
   "cell_type": "code",
   "execution_count": null,
   "metadata": {
    "scrolled": true
   },
   "outputs": [],
   "source": [
    "#response = pd.read_csv(\"data/CTRP/data/v10.D3.area_under_conc_curve.txt\", sep  = '\\t')\n",
    "#response = pd.read_csv(\"data/CTRP v2.0 [2015]/v20.data.curves_post_qc.txt\", sep  = '\\t')\n",
    "response = pd.read_csv(\"data/CTRP v2.1 [2016]/v21.data.auc_sensitivities.txt\", sep  = '\\t')\n",
    "response['Response'] = pd.cut(response['area_under_curve'], bins=[0, 2.5, 5.5, 50], labels=['Sensitive','Medium','Non-responsive'])\n",
    "response.head()"
   ]
  },
  {
   "cell_type": "code",
   "execution_count": null,
   "metadata": {},
   "outputs": [],
   "source": [
    "print(f\"Number of cancer cell lines: {len(alterations['ccl_name'].unique())}\")\n",
    "print(f\"Number of compounds: {len(alterations['cpd_name'].unique())}\")"
   ]
  },
  {
   "cell_type": "code",
   "execution_count": null,
   "metadata": {},
   "outputs": [],
   "source": [
    "response = pd.read_csv('data/Drug_response.txt', sep = '\\t')\n",
    "response.head()"
   ]
  },
  {
   "cell_type": "code",
   "execution_count": null,
   "metadata": {},
   "outputs": [],
   "source": [
    "#Let's look at the alterations dataset\n",
    "\n",
    "print(\"Are there any NaN values in the mutations dataset? \", alterations.isnull().values.any()) #no Nan values\n",
    "print(f\"Size of the dataset: {alterations.shape}: {alterations.shape[0]} mutations available in {alterations.shape[1]-1} cell populations.\")"
   ]
  },
  {
   "cell_type": "code",
   "execution_count": null,
   "metadata": {},
   "outputs": [],
   "source": [
    "#Let's look at the response dataset\n",
    "\n",
    "print(\"Are there any NaN values in the response dataset? \", response.isnull().values.any()) #no Nan values\n",
    "print(f\"Size of the dataset: {response.shape}: the response to {response.shape[0]} drugs in {response.shape[1]} cell populations.\")"
   ]
  },
  {
   "cell_type": "code",
   "execution_count": null,
   "metadata": {},
   "outputs": [],
   "source": [
    "proportion_non_nans = (response.count()/response.count()[\"Description\"]).sort_values() #looks at the proportions of NaNs for each cell population\n",
    "proportion_non_nans"
   ]
  },
  {
   "cell_type": "code",
   "execution_count": null,
   "metadata": {},
   "outputs": [],
   "source": [
    "weakest_response = min(response.drop('Description', axis = 1).min())\n",
    "print(weakest_response) #No response is 0 ! "
   ]
  },
  {
   "cell_type": "code",
   "execution_count": null,
   "metadata": {
    "scrolled": false
   },
   "outputs": [],
   "source": [
    "#What is the proportion of NaNs? Fill\n",
    " \n",
    "filled_response = response.fillna(-1)\n",
    "liste = range(0,len(filled_response.columns))\n",
    "filled_response = filled_response.reset_index(drop = True).drop(\"Description\", axis = 1).T.reset_index(drop=True).T#.rename(columns = map(lambda elem: elem, liste))# for i in len(filled_response))\n",
    "fig = plt.figure( figsize = (15,10))\n",
    "sns.heatmap(filled_response, cmap = sns.cm.rocket)\n",
    "plt.xlabel('Cell populations')\n",
    "plt.ylabel('Drugs');"
   ]
  },
  {
   "cell_type": "markdown",
   "metadata": {},
   "source": [
    "### Transpose dataframes for homogeneity"
   ]
  },
  {
   "cell_type": "code",
   "execution_count": null,
   "metadata": {},
   "outputs": [],
   "source": [
    "alterations_t = alterations.set_index('Description').transpose()\n",
    "response_t = response.set_index('Description').transpose()\n",
    "\n",
    "print('Alterations:')\n",
    "display(alterations_t.head())\n",
    "\n",
    "print('Responses:')\n",
    "response_t.head()"
   ]
  },
  {
   "cell_type": "markdown",
   "metadata": {},
   "source": [
    "#### Let's first try to see if the number of mutations has any impact on the response (naive)"
   ]
  },
  {
   "cell_type": "code",
   "execution_count": null,
   "metadata": {},
   "outputs": [],
   "source": [
    "alterations_t['Number of mutations'] = list(alterations_t.iloc[:,:].sum(axis = 1))"
   ]
  },
  {
   "cell_type": "code",
   "execution_count": null,
   "metadata": {},
   "outputs": [],
   "source": [
    "print(f'Number of cells in the alterations database: {len(alterations_t.index)}')\n",
    "print(f'Number of cells in the response database: {len(response_t.index)}')\n",
    "alterations_t.head()"
   ]
  },
  {
   "cell_type": "markdown",
   "metadata": {},
   "source": [
    "##### Let's look at the elements in common (these are the only ones that can be used for training)"
   ]
  },
  {
   "cell_type": "code",
   "execution_count": null,
   "metadata": {},
   "outputs": [],
   "source": [
    "df1 = pd.concat([response_t, alterations_t['Number of mutations']], axis = 1, join = 'inner')\n",
    "df1.head()"
   ]
  },
  {
   "cell_type": "code",
   "execution_count": null,
   "metadata": {},
   "outputs": [],
   "source": [
    "print(f'Number of cell populations in common: {len(df1.index)}')\n",
    "proportion_non_nan_drugs = (df1.count()/len(df1.index)).sort_values() #looks at the proportions of NaNs for each cell population\n",
    "#noNanDrugs = [drug for drug in df1.columns if df1[drug].isnull().values.any() == False]\n",
    "proportion_non_nan_drugs #we have NaN's in all columns ! What shall we do with them?"
   ]
  },
  {
   "cell_type": "code",
   "execution_count": null,
   "metadata": {},
   "outputs": [],
   "source": [
    "sns.scatterplot(df1['Number of mutations'], df1['(5Z)-7-Oxozeaenol']);"
   ]
  },
  {
   "cell_type": "code",
   "execution_count": null,
   "metadata": {
    "scrolled": false
   },
   "outputs": [],
   "source": [
    "#Let's try to plot the density function of the first drug as a function of the number of mutations\n",
    "\n",
    "sns.jointplot(x ='Number of mutations', y = str(df1.columns[0]), data = df1.dropna(), kind = 'kde'); #for now, just dropping all the NaNs."
   ]
  },
  {
   "cell_type": "code",
   "execution_count": null,
   "metadata": {},
   "outputs": [],
   "source": [
    "sns.scatterplot(df1['Number of mutations'], df1['Bleomycin (50 uM)']);"
   ]
  },
  {
   "cell_type": "code",
   "execution_count": null,
   "metadata": {},
   "outputs": [],
   "source": [
    "#Let's try to plot the density function of the first drug as a function of the number of mutations\n",
    "\n",
    "sns.jointplot(x ='Number of mutations', y = 'Bleomycin (50 uM)', data = df1.dropna(), kind = 'kde'); #for now, just dropping all the NaNs."
   ]
  }
 ],
 "metadata": {
  "kernelspec": {
   "display_name": "Python 3",
   "language": "python",
   "name": "python3"
  },
  "language_info": {
   "codemirror_mode": {
    "name": "ipython",
    "version": 3
   },
   "file_extension": ".py",
   "mimetype": "text/x-python",
   "name": "python",
   "nbconvert_exporter": "python",
   "pygments_lexer": "ipython3",
   "version": "3.6.7"
  }
 },
 "nbformat": 4,
 "nbformat_minor": 2
}
